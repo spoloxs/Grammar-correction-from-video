{
 "cells": [
  {
   "cell_type": "code",
   "execution_count": 104,
   "metadata": {},
   "outputs": [
    {
     "name": "stdout",
     "output_type": "stream",
     "text": [
      "MoviePy - Writing audio in audio_output.wav\n"
     ]
    },
    {
     "name": "stderr",
     "output_type": "stream",
     "text": [
      "                                                                     \r"
     ]
    },
    {
     "name": "stdout",
     "output_type": "stream",
     "text": [
      "MoviePy - Done.\n"
     ]
    }
   ],
   "source": [
    "from moviepy.editor import VideoFileClip\n",
    "\n",
    "def extract_audio(video_file, output_audio_file):\n",
    "    video = VideoFileClip(video_file)\n",
    "    audio = video.audio\n",
    "    audio.write_audiofile(output_audio_file)\n",
    "    video.close()\n",
    "\n",
    "video_path = \"v.mp4\"\n",
    "audio_output = \"audio_output.wav\"\n",
    "extract_audio(video_path, audio_output)\n"
   ]
  },
  {
   "cell_type": "code",
   "execution_count": 105,
   "metadata": {},
   "outputs": [
    {
     "name": "stdout",
     "output_type": "stream",
     "text": [
      "File size: 9878478.00 bytes\n"
     ]
    }
   ],
   "source": [
    "import os\n",
    "\n",
    "def print_file_size(file_path):\n",
    "    file_size = os.path.getsize(file_path)  # Size in bytes\n",
    "    file_size_MB = file_size   # Convert to MB\n",
    "    print(f\"File size: {file_size_MB:.2f} bytes\")\n",
    "\n",
    "audio_file = \"audio_output.wav\"  # Replace with your file path\n",
    "print_file_size(audio_file)\n"
   ]
  },
  {
   "cell_type": "code",
   "execution_count": 106,
   "metadata": {},
   "outputs": [],
   "source": [
    "from pydub import AudioSegment\n",
    "\n",
    "def convert_to_mono(input_audio, output_audio):\n",
    "    audio = AudioSegment.from_wav(input_audio)\n",
    "    mono_audio = audio.set_channels(1)\n",
    "    mono_audio.export(output_audio, format=\"wav\")\n",
    "\n",
    "input_audio = \"audio_output.wav\"\n",
    "output_audio = \"mono_audio_output.wav\"\n",
    "convert_to_mono(input_audio, output_audio)\n"
   ]
  },
  {
   "cell_type": "code",
   "execution_count": 117,
   "metadata": {},
   "outputs": [],
   "source": [
    "from moviepy.editor import VideoFileClip, AudioFileClip, CompositeAudioClip\n"
   ]
  },
  {
   "cell_type": "code",
   "execution_count": 232,
   "metadata": {},
   "outputs": [
    {
     "name": "stdout",
     "output_type": "stream",
     "text": [
      "Word: hi, Start time: 3.3, End time: 3.7\n",
      "Word: hi, Start time: 3.7, End time: 4.9\n",
      "Word: myself, Start time: 4.9, End time: 5.9\n",
      "Word: I'm, Start time: 5.9, End time: 8.1\n",
      "Word: from, Start time: 8.1, End time: 8.3\n",
      "Word: Kippur, Start time: 8.3, End time: 9.1\n",
      "Word: this, Start time: 9.1, End time: 10.0\n",
      "Word: take, Start time: 10.0, End time: 10.2\n",
      "Word: of, Start time: 10.2, End time: 10.3\n",
      "Word: Maharashtra, Start time: 10.3, End time: 10.8\n",
      "Word: I, Start time: 10.8, End time: 11.6\n",
      "Word: am, Start time: 11.6, End time: 11.9\n",
      "Word: be, Start time: 11.9, End time: 12.1\n",
      "Word: a, Start time: 12.1, End time: 12.2\n",
      "Word: graduate, Start time: 12.2, End time: 12.4\n",
      "Word: and, Start time: 12.4, End time: 13.3\n",
      "Word: also, Start time: 13.3, End time: 13.4\n",
      "Word: doing, Start time: 13.4, End time: 13.6\n",
      "Word: Ma, Start time: 13.6, End time: 14.4\n",
      "Word: from, Start time: 14.4, End time: 14.6\n",
      "Word: she, Start time: 15.1, End time: 15.6\n",
      "Word: was, Start time: 15.6, End time: 15.8\n",
      "Word: University, Start time: 15.8, End time: 16.0\n",
      "Word: I, Start time: 16.0, End time: 16.9\n",
      "Word: love, Start time: 16.9, End time: 17.4\n",
      "Word: cooking, Start time: 17.4, End time: 17.5\n",
      "Word: and, Start time: 17.5, End time: 17.8\n",
      "Word: singing, Start time: 17.8, End time: 18.0\n",
      "Word: and, Start time: 18.0, End time: 18.7\n",
      "Word: also, Start time: 18.7, End time: 19.0\n",
      "Word: wrestling, Start time: 19.0, End time: 19.7\n",
      "Word: uh, Start time: 20.3, End time: 20.8\n",
      "Word: tell, Start time: 20.8, End time: 21.2\n",
      "Word: me, Start time: 21.2, End time: 21.3\n",
      "Word: a, Start time: 21.3, End time: 21.4\n",
      "Word: little, Start time: 21.4, End time: 21.4\n",
      "Word: about, Start time: 21.4, End time: 21.6\n",
      "Word: your, Start time: 21.6, End time: 21.9\n",
      "Word: work, Start time: 21.9, End time: 22.0\n",
      "Word: I, Start time: 24.9, End time: 25.3\n",
      "Word: am, Start time: 25.3, End time: 25.5\n",
      "Word: person, Start time: 25.5, End time: 26.3\n",
      "Word: of, Start time: 26.3, End time: 26.7\n",
      "Word: so, Start time: 26.7, End time: 26.8\n",
      "Word: many, Start time: 26.8, End time: 26.8\n",
      "Word: creative, Start time: 26.8, End time: 27.4\n",
      "Word: event, Start time: 27.4, End time: 27.6\n",
      "Word: like, Start time: 27.6, End time: 28.3\n",
      "Word: Lonnie, Start time: 28.3, End time: 28.9\n",
      "Word: and, Start time: 28.9, End time: 29.1\n",
      "Word: Bhangra, Start time: 29.1, End time: 29.4\n",
      "Word: I, Start time: 30.4, End time: 30.8\n",
      "Word: have, Start time: 30.8, End time: 31.0\n",
      "Word: lots, Start time: 31.0, End time: 31.1\n",
      "Word: of, Start time: 31.1, End time: 31.2\n",
      "Word: N, Start time: 31.2, End time: 31.6\n",
      "Word: and, Start time: 31.6, End time: 32.2\n",
      "Word: also, Start time: 32.2, End time: 32.6\n",
      "Word: always, Start time: 32.6, End time: 33.4\n",
      "Word: doing, Start time: 33.4, End time: 33.6\n",
      "Word: roadside, Start time: 33.6, End time: 34.8\n",
      "Word: Network, Start time: 34.8, End time: 35.1\n",
      "Word: my, Start time: 35.1, End time: 35.7\n",
      "Word: most, Start time: 35.7, End time: 36.1\n",
      "Word: famous, Start time: 36.1, End time: 36.3\n",
      "Word: n, Start time: 36.3, End time: 36.7\n",
      "Word: was, Start time: 36.7, End time: 37.0\n",
      "Word: most, Start time: 37.6, End time: 39.6\n",
      "Word: successful, Start time: 39.6, End time: 39.8\n",
      "Word: not, Start time: 39.8, End time: 40.3\n",
      "Word: as, Start time: 40.3, End time: 40.5\n",
      "Word: in, Start time: 40.5, End time: 40.5\n",
      "Word: Kapoor, Start time: 40.5, End time: 41.0\n",
      "Word: I, Start time: 41.5, End time: 41.7\n",
      "Word: always, Start time: 41.7, End time: 42.0\n",
      "Word: win, Start time: 42.0, End time: 43.0\n",
      "Word: every, Start time: 43.0, End time: 45.3\n",
      "Word: year, Start time: 45.3, End time: 45.4\n",
      "Word: I, Start time: 46.5, End time: 46.9\n",
      "Word: even, Start time: 46.9, End time: 47.7\n",
      "Word: talked, Start time: 47.7, End time: 47.8\n",
      "Word: to, Start time: 47.8, End time: 47.9\n",
      "Word: Madame, Start time: 48.9, End time: 49.5\n",
      "Word: uru, Start time: 49.5, End time: 49.9\n",
      "Word: on, Start time: 49.9, End time: 50.7\n",
      "Word: full, Start time: 50.7, End time: 51.0\n",
      "Word: but, Start time: 51.0, End time: 51.6\n",
      "Word: that, Start time: 51.6, End time: 52.2\n",
      "Word: film, Start time: 52.2, End time: 52.5\n",
      "Word: was, Start time: 52.5, End time: 52.7\n",
      "Word: never, Start time: 52.7, End time: 52.9\n",
      "Word: happened, Start time: 52.9, End time: 53.2\n",
      "Word: um, Start time: 54.1, End time: 54.5\n",
      "Word: so, Start time: 54.5, End time: 54.8\n",
      "Word: why, Start time: 54.8, End time: 55.0\n",
      "Word: do, Start time: 55.0, End time: 55.3\n",
      "Word: you, Start time: 55.3, End time: 55.3\n",
      "Word: think, Start time: 55.3, End time: 55.4\n",
      "Word: you, Start time: 55.4, End time: 55.9\n",
      "Word: should, Start time: 55.9, End time: 55.9\n"
     ]
    }
   ],
   "source": [
    "import io\n",
    "import os\n",
    "from google.cloud import speech\n",
    "\n",
    "os.environ[\"GOOGLE_APPLICATION_CREDENTIALS\"] = \"credentials.json\"\n",
    "\n",
    "def transcribe_audio_with_timestamps(audio_file):\n",
    "    \"\"\"Transcribe audio with timestamps using Google Speech-to-Text.\"\"\"\n",
    "    client = speech.SpeechClient()\n",
    "    resultSpeech = \"\"\n",
    "    # Load audio file\n",
    "    with io.open(audio_file, \"rb\") as f:\n",
    "        content = f.read()\n",
    "\n",
    "    # Set up the RecognitionAudio and RecognitionConfig\n",
    "    audio = speech.RecognitionAudio(content=content)\n",
    "    config = speech.RecognitionConfig(\n",
    "        encoding=speech.RecognitionConfig.AudioEncoding.LINEAR16,\n",
    "        language_code=\"en-US\",\n",
    "        enable_word_time_offsets=True  # Enable word-level timestamps\n",
    "    )\n",
    "\n",
    "    # Perform the speech recognition\n",
    "    response = client.recognize(config=config, audio=audio)\n",
    "    \n",
    "    # Extract transcripts and timestamps\n",
    "    transcript = \"\"\n",
    "    last_end = 0\n",
    "    for result in response.results:\n",
    "        alternative = result.alternatives[0]\n",
    "        transcript += alternative.transcript + \" \"\n",
    "        for word_info in alternative.words:\n",
    "            word = word_info.word\n",
    "            start_time = word_info.start_time.total_seconds()\n",
    "            end_time = word_info.end_time.total_seconds()\n",
    "            print(f\"Word: {word}, Start time: {start_time}, End time: {end_time}\")\n",
    "            resultSpeech += f\"(Word: {word}, breakPoint:{start_time-last_end }), \"\n",
    "            last_end = end_time\n",
    "    return resultSpeech\n",
    "\n",
    "\n",
    "# Example usage\n",
    "transcript = transcribe_audio_with_timestamps(\"mono_audio.wav\")\n"
   ]
  },
  {
   "cell_type": "code",
   "execution_count": 233,
   "metadata": {},
   "outputs": [
    {
     "name": "stdout",
     "output_type": "stream",
     "text": [
      "(Word: hi, breakPoint:3.3), (Word: hi, breakPoint:0.0), (Word: myself, breakPoint:0.0), (Word: I'm, breakPoint:0.0), (Word: from, breakPoint:0.0), (Word: Kippur, breakPoint:0.0), (Word: this, breakPoint:0.0), (Word: take, breakPoint:0.0), (Word: of, breakPoint:0.0), (Word: Maharashtra, breakPoint:0.0), (Word: I, breakPoint:0.0), (Word: am, breakPoint:0.0), (Word: be, breakPoint:0.0), (Word: a, breakPoint:0.0), (Word: graduate, breakPoint:0.0), (Word: and, breakPoint:0.0), (Word: also, breakPoint:0.0), (Word: doing, breakPoint:0.0), (Word: Ma, breakPoint:0.0), (Word: from, breakPoint:0.0), (Word: she, breakPoint:0.5), (Word: was, breakPoint:0.0), (Word: University, breakPoint:0.0), (Word: I, breakPoint:0.0), (Word: love, breakPoint:0.0), (Word: cooking, breakPoint:0.0), (Word: and, breakPoint:0.0), (Word: singing, breakPoint:0.0), (Word: and, breakPoint:0.0), (Word: also, breakPoint:0.0), (Word: wrestling, breakPoint:0.0), (Word: uh, breakPoint:0.6000000000000014), (Word: tell, breakPoint:0.0), (Word: me, breakPoint:0.0), (Word: a, breakPoint:0.0), (Word: little, breakPoint:0.0), (Word: about, breakPoint:0.0), (Word: your, breakPoint:0.0), (Word: work, breakPoint:0.0), (Word: I, breakPoint:2.8999999999999986), (Word: am, breakPoint:0.0), (Word: person, breakPoint:0.0), (Word: of, breakPoint:0.0), (Word: so, breakPoint:0.0), (Word: many, breakPoint:0.0), (Word: creative, breakPoint:0.0), (Word: event, breakPoint:0.0), (Word: like, breakPoint:0.0), (Word: Lonnie, breakPoint:0.0), (Word: and, breakPoint:0.0), (Word: Bhangra, breakPoint:0.0), (Word: I, breakPoint:1.0), (Word: have, breakPoint:0.0), (Word: lots, breakPoint:0.0), (Word: of, breakPoint:0.0), (Word: N, breakPoint:0.0), (Word: and, breakPoint:0.0), (Word: also, breakPoint:0.0), (Word: always, breakPoint:0.0), (Word: doing, breakPoint:0.0), (Word: roadside, breakPoint:0.0), (Word: Network, breakPoint:0.0), (Word: my, breakPoint:0.0), (Word: most, breakPoint:0.0), (Word: famous, breakPoint:0.0), (Word: n, breakPoint:0.0), (Word: was, breakPoint:0.0), (Word: most, breakPoint:0.6000000000000014), (Word: successful, breakPoint:0.0), (Word: not, breakPoint:0.0), (Word: as, breakPoint:0.0), (Word: in, breakPoint:0.0), (Word: Kapoor, breakPoint:0.0), (Word: I, breakPoint:0.5), (Word: always, breakPoint:0.0), (Word: win, breakPoint:0.0), (Word: every, breakPoint:0.0), (Word: year, breakPoint:0.0), (Word: I, breakPoint:1.1000000000000014), (Word: even, breakPoint:0.0), (Word: talked, breakPoint:0.0), (Word: to, breakPoint:0.0), (Word: Madame, breakPoint:1.0), (Word: uru, breakPoint:0.0), (Word: on, breakPoint:0.0), (Word: full, breakPoint:0.0), (Word: but, breakPoint:0.0), (Word: that, breakPoint:0.0), (Word: film, breakPoint:0.0), (Word: was, breakPoint:0.0), (Word: never, breakPoint:0.0), (Word: happened, breakPoint:0.0), (Word: um, breakPoint:0.8999999999999986), (Word: so, breakPoint:0.0), (Word: why, breakPoint:0.0), (Word: do, breakPoint:0.0), (Word: you, breakPoint:0.0), (Word: think, breakPoint:0.0), (Word: you, breakPoint:0.0), (Word: should, breakPoint:0.0), \n"
     ]
    }
   ],
   "source": [
    "print(transcript)"
   ]
  },
  {
   "cell_type": "code",
   "execution_count": 121,
   "metadata": {},
   "outputs": [],
   "source": [
    "import requests"
   ]
  },
  {
   "cell_type": "code",
   "execution_count": 269,
   "metadata": {},
   "outputs": [],
   "source": [
    "def correct_grammar(transcribed_text):\n",
    "    \"\"\"Correct grammar using Azure OpenAI.\"\"\"\n",
    "    azure_openai_key = os.getenv(\"AZURE_OPENAI_KEY\")  # Load from .env\n",
    "    azure_openai_endpoint = os.getenv(\"AZURE_OPENAI_ENDPOINT\")  # Load from .env\n",
    "\n",
    "    headers = {\n",
    "        \"Content-Type\": \"application/json\",\n",
    "        \"api-key\": azure_openai_key\n",
    "    }\n",
    "\n",
    "    data = {\n",
    "        \"messages\": [{\"role\": \"user\", \"content\": f\"\"\"\n",
    "                    you will get a input of list of pairs in the format \"Word: (word), breakPoint: (time)\".\n",
    "                    Using (word) from each line create a grammatically correct paragraph with punctuations then using this new paragraph replace the old word from given list with grammatically correct words(with punctuations) and corresponding breakpoint.\n",
    "                    Input: '{transcript}'.\n",
    "                    Only return the final list of pair and nothing else in one line without newline.\n",
    "                    \"\"\"}],\n",
    "        \"max_tokens\": len(transcript)\n",
    "    }\n",
    "\n",
    "    response = requests.post(azure_openai_endpoint, headers=headers, json=data)\n",
    "\n",
    "    if response.status_code == 200:\n",
    "        result = response.json()\n",
    "        return result[\"choices\"][0][\"message\"][\"content\"].strip()\n",
    "    else:\n",
    "        return f\"Error: {response.status_code} - {response.text}\"\n"
   ]
  },
  {
   "cell_type": "code",
   "execution_count": 270,
   "metadata": {},
   "outputs": [
    {
     "data": {
      "text/plain": [
       "\"(Word: Hi!, breakPoint:3.3), (Word: Hi., breakPoint:0.0), (Word: Myself, breakPoint:0.0), (Word: I'm, breakPoint:0.0), (Word: from, breakPoint:0.0), (Word: Kippur., breakPoint:0.0), (Word: This, breakPoint:0.0), (Word: take, breakPoint:0.0), (Word: of, breakPoint:0.0), (Word: Maharashtra., breakPoint:0.0), (Word: I, breakPoint:0.0), (Word: am, breakPoint:0.0), (Word: be, breakPoint:0.0), (Word: a, breakPoint:0.0), (Word: graduate, breakPoint:0.0), (Word: and, breakPoint:0.0), (Word: also, breakPoint:0.0), (Word: doing, breakPoint:0.0), (Word: MA, breakPoint:0.0), (Word: from, breakPoint:0.0), (Word: She, breakPoint:0.5), (Word: was, breakPoint:0.0), (Word: University., breakPoint:0.0), (Word: I, breakPoint:0.0), (Word: love, breakPoint:0.0), (Word: cooking, breakPoint:0.0), (Word: and, breakPoint:0.0), (Word: singing, breakPoint:0.0), (Word: and, breakPoint:0.0), (Word: also, breakPoint:0.0), (Word: wrestling., breakPoint:0.0), (Word: Uh, breakPoint:0.6000000000000014), (Word: tell, breakPoint:0.0), (Word: me, breakPoint:0.0), (Word: a, breakPoint:0.0), (Word: little, breakPoint:0.0), (Word: about, breakPoint:0.0), (Word: your, breakPoint:0.0), (Word: work., breakPoint:0.0), (Word: I, breakPoint:2.8999999999999986), (Word: am, breakPoint:0.0), (Word: person, breakPoint:0.0), (Word: of, breakPoint:0.0), (Word: so, breakPoint:0.0), (Word: many, breakPoint:0.0), (Word: creative, breakPoint:0.0), (Word: event, breakPoint:0.0), (Word: like, breakPoint:0.0), (Word: lonnie, breakPoint:0.0), (Word: and, breakPoint:0.0), (Word: bhangra., breakPoint:0.0), (Word: I, breakPoint:1.0), (Word: have, breakPoint:0.0), (Word: lots, breakPoint:0.0), (Word: of, breakPoint:0.0), (Word: In, breakPoint:0.0), (Word: and, breakPoint:0.0), (Word: also, breakPoint:0.0), (Word: always, breakPoint:0.0), (Word: doing, breakPoint:0.0), (Word: roadside, breakPoint:0.0), (Word: network., breakPoint:0.0), (Word: My, breakPoint:0.0), (Word: most, breakPoint:0.0), (Word: famous, breakPoint:0.0), (Word: In, breakPoint:0.0), (Word: was, breakPoint:0.0), (Word: most, breakPoint:0.6000000000000014), (Word: successful., breakPoint:0.0), (Word: Not, breakPoint:0.0), (Word: as, breakPoint:0.0), (Word: in, breakPoint:0.0), (Word: kapoor, breakPoint:0.0), (Word: I, breakPoint:0.5), (Word: always, breakPoint:0.0), (Word: win, breakPoint:0.0), (Word: every, breakPoint:0.0), (Word: year., breakPoint:0.0), (Word: I, breakPoint:1.1000000000000014), (Word: even, breakPoint:0.0), (Word: talked, breakPoint:0.0), (Word: to, breakPoint:0.0), (Word: madame, breakPoint:1.0), (Word: uru, breakPoint:0.0), (Word: on, breakPoint:0.0), (Word: full., breakPoint:0.0), (Word: But, breakPoint:0.0), (Word: that, breakPoint:0.0), (Word: film, breakPoint:0.0), (Word: was, breakPoint:0.0), (Word: never, breakPoint:0.0), (Word: happened., breakPoint:0.0), (Word: Um, breakPoint:0.8999999999999986), (Word: so, breakPoint:0.0), (Word: why, breakPoint:0.0), (Word: do, breakPoint:0.0), (Word: you, breakPoint:0.0), (Word: think, breakPoint:0.0), (Word: you, breakPoint:0.0), (Word: should, breakPoint:0.0)\""
      ]
     },
     "execution_count": 270,
     "metadata": {},
     "output_type": "execute_result"
    }
   ],
   "source": [
    "text = correct_grammar(transcript)\n",
    "text"
   ]
  },
  {
   "cell_type": "code",
   "execution_count": 271,
   "metadata": {},
   "outputs": [],
   "source": [
    "def convert_to_pairs(text):\n",
    "    pairs = []\n",
    "    \n",
    "    # Split the input string into individual entries\n",
    "    entries = text.split('), (')\n",
    "    \n",
    "    # Process each entry to extract word and breakPoint\n",
    "    for entry in entries:\n",
    "        # Remove any leading/trailing characters\n",
    "        entry = entry.strip('() ')\n",
    "        \n",
    "        # Split the entry into word and breakpoint components\n",
    "        components = entry.split(',')\n",
    "        word = components[0].split(':')[1].strip()\n",
    "        \n",
    "        # Clean the breakpoint string before converting to float\n",
    "        break_point = float(components[1].split(':')[1].strip().rstrip(')'))  # Remove any trailing parenthesis\n",
    "        \n",
    "        # Append the (word, breakpoint) pair to the list\n",
    "        pairs.append((word, break_point))\n",
    "    \n",
    "    return pairs"
   ]
  },
  {
   "cell_type": "code",
   "execution_count": 272,
   "metadata": {},
   "outputs": [],
   "source": [
    "def convert_to_ssml_with_breaks(pairs):\n",
    "    ssml_output = '<speak>'\n",
    "    ssml_output += f'<prosody rate=\"slow\">'\n",
    "    for word, break_point in pairs:\n",
    "        # Add a break if the breakpoint is greater than 0\n",
    "        if break_point > 0:\n",
    "            ssml_output += f'<break time=\"{break_point}s\"/>'\n",
    "        # Add the word to the SSML string\n",
    "        ssml_output += f'{word} '\n",
    "\n",
    "    ssml_output += '</prosody>'\n",
    "    ssml_output += '</speak>'\n",
    "    return ssml_output"
   ]
  },
  {
   "cell_type": "code",
   "execution_count": 275,
   "metadata": {},
   "outputs": [
    {
     "name": "stdout",
     "output_type": "stream",
     "text": [
      "<speak><prosody rate=\"slow\"><break time=\"3.3s\"/>hi hi myself I'm from Kippur this take of Maharashtra I am be a graduate and also doing Ma from <break time=\"0.5s\"/>she was University I love cooking and singing and also wrestling <break time=\"0.6000000000000014s\"/>uh tell me a little about your work <break time=\"2.8999999999999986s\"/>I am person of so many creative event like Lonnie and Bhangra <break time=\"1.0s\"/>I have lots of N and also always doing roadside Network my most famous n was <break time=\"0.6000000000000014s\"/>most successful not as in Kapoor <break time=\"0.5s\"/>I always win every year <break time=\"1.1000000000000014s\"/>I even talked to <break time=\"1.0s\"/>Madame uru on full but that film was never happened <break time=\"0.8999999999999986s\"/>um so why do you think you should </prosody></speak>\n"
     ]
    }
   ],
   "source": [
    "input_script = convert_to_ssml_with_breaks(convert_to_pairs(transcript))\n",
    "print(input_script)"
   ]
  },
  {
   "cell_type": "code",
   "execution_count": 276,
   "metadata": {},
   "outputs": [
    {
     "name": "stdout",
     "output_type": "stream",
     "text": [
      "Audio with SSML saved as 'output_with_ssml.mp3'.\n"
     ]
    }
   ],
   "source": [
    "from google.cloud import texttospeech\n",
    "import os\n",
    "import io\n",
    "import pydub\n",
    "from pydub import AudioSegment\n",
    "\n",
    "# Set up your Google Cloud credentials\n",
    "os.environ[\"GOOGLE_APPLICATION_CREDENTIALS\"] = \"credentials.json\"\n",
    "\n",
    "# Initialize the Google Text-to-Speech client\n",
    "client = texttospeech.TextToSpeechClient()\n",
    "\n",
    "input_text = texttospeech.SynthesisInput(ssml=input_script)\n",
    "\n",
    "# Select the voice and language code\n",
    "voice = texttospeech.VoiceSelectionParams(\n",
    "    language_code=\"en-US\",\n",
    "    ssml_gender=texttospeech.SsmlVoiceGender.MALE\n",
    ")\n",
    "\n",
    "# Select the audio format\n",
    "audio_config = texttospeech.AudioConfig(\n",
    "    audio_encoding=texttospeech.AudioEncoding.MP3\n",
    ")\n",
    "\n",
    "# Synthesize the speech\n",
    "response = client.synthesize_speech(\n",
    "    input=input_text, voice=voice, audio_config=audio_config\n",
    ")\n",
    "\n",
    "# Save the synthesized audio to a file\n",
    "with open(\"output_with_ssml.mp3\", \"wb\") as out:\n",
    "    out.write(response.audio_content)\n",
    "\n",
    "print(\"Audio with SSML saved as 'output_with_ssml.mp3'.\")\n"
   ]
  },
  {
   "cell_type": "code",
   "execution_count": null,
   "metadata": {},
   "outputs": [],
   "source": []
  }
 ],
 "metadata": {
  "kernelspec": {
   "display_name": ".venv",
   "language": "python",
   "name": "python3"
  },
  "language_info": {
   "codemirror_mode": {
    "name": "ipython",
    "version": 3
   },
   "file_extension": ".py",
   "mimetype": "text/x-python",
   "name": "python",
   "nbconvert_exporter": "python",
   "pygments_lexer": "ipython3",
   "version": "3.10.12"
  }
 },
 "nbformat": 4,
 "nbformat_minor": 2
}
